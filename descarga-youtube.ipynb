{
 "cells": [
  {
   "cell_type": "code",
   "execution_count": 37,
   "metadata": {},
   "outputs": [],
   "source": [
    "from moviepy.video.io.ffmpeg_tools import ffmpeg_extract_audio\n",
    "from pytube import YouTube, Playlist\n",
    "import os"
   ]
  },
  {
   "cell_type": "code",
   "execution_count": 39,
   "metadata": {},
   "outputs": [],
   "source": [
    "def convertir_mp4_a_mp3(input_file, output_file):\n",
    "    try:\n",
    "        # Extraer el audio del archivo MP4 y guardarlo en formato MP3\n",
    "        ffmpeg_extract_audio(input_file, output_file)\n",
    "    except Exception as e:\n",
    "        print(f\"Error al convertir el archivo: {str(e)}\")\n",
    "        return None\n"
   ]
  },
  {
   "cell_type": "code",
   "execution_count": 67,
   "metadata": {},
   "outputs": [],
   "source": [
    "def download_mp3(url, nombre_archivo):\n",
    "    try:\n",
    "        video = YouTube(url)\n",
    "\n",
    "        # Obtiene la corriente de audio en formato MP4\n",
    "        audio_stream = video.streams.filter(only_audio=True, file_extension='mp4').first()\n",
    "\n",
    "        # Descarga el video en la carpeta 'downloads'\n",
    "        ruta_audio_mp4 = os.path.join('downloads', f'{nombre_archivo}.mp4')\n",
    "        audio_stream.download(output_path='downloads', filename=f'{nombre_archivo}.mp4')\n",
    "\n",
    "        # Utiliza FFmpeg para convertir el audio a formato MP3\n",
    "        ruta_audio_mp3 = os.path.join('downloads', f'{nombre_archivo}.mp3')\n",
    "        convertir_mp4_a_mp3(ruta_audio_mp4,ruta_audio_mp3)\n",
    "\n",
    "        # Borra el archivo MP4 \n",
    "        os.remove(ruta_audio_mp4)\n",
    "\n",
    "        return f\"Audio '{nombre_archivo}.mp3' descargado y convertido exitosamente.\"\n",
    "    except Exception as e:\n",
    "        print(f\"Error al descargar y convertir el audio: {str(e)}\")\n",
    "        return None"
   ]
  },
  {
   "cell_type": "code",
   "execution_count": 40,
   "metadata": {},
   "outputs": [],
   "source": [
    "def get_name(url):\n",
    "    try:\n",
    "        # Crea una instancia de YouTube\n",
    "        video = YouTube(url)\n",
    "\n",
    "        # Accede al título del video\n",
    "        titulo = video.title\n",
    "\n",
    "        return titulo\n",
    "    except Exception as e:\n",
    "        print(f\"Error al obtener el título desde la URL: {str(e)}\")\n",
    "        return None\n"
   ]
  },
  {
   "cell_type": "code",
   "execution_count": 41,
   "metadata": {},
   "outputs": [],
   "source": [
    "def get_name_and_artist(url):\n",
    "    try:\n",
    "        # Crea una instancia de YouTube\n",
    "        video = YouTube(url)\n",
    "\n",
    "        # Accede al atributo 'author' para obtener el nombre del canal\n",
    "        nombre_del_canal = video.author\n",
    "        nombre_video = video.title\n",
    "\n",
    "        nombre_completo = nombre_video + ' - ' + nombre_del_canal\n",
    "\n",
    "        return nombre_completo\n",
    "    except Exception as e:\n",
    "        print(f\"Error al obtener el nombre del canal desde la URL: {str(e)}\")\n",
    "        return None"
   ]
  },
  {
   "cell_type": "code",
   "execution_count": 43,
   "metadata": {},
   "outputs": [],
   "source": [
    "def get_links_from_playlist(url_playlist):\n",
    "    try:\n",
    "        # Crear un objeto Playlist\n",
    "        playlist = Playlist(url_playlist)\n",
    "\n",
    "        # Obtener los enlaces de los videos en la playlist\n",
    "        enlaces_videos = playlist.video_urls\n",
    "\n",
    "        return enlaces_videos\n",
    "    except Exception as e:\n",
    "        print(str(e))\n",
    "        return None"
   ]
  },
  {
   "cell_type": "code",
   "execution_count": 65,
   "metadata": {},
   "outputs": [],
   "source": [
    "def download_mp3_playlist(playlist):\n",
    "\n",
    "    try:\n",
    "\n",
    "        print(f'{str(len(playlist))} music videos to download')\n",
    "        count = 1\n",
    "\n",
    "        for song in playlist:\n",
    "            name = get_name_and_artist(song)\n",
    "            print(download_mp3(url=song,nombre_archivo=name))\n",
    "            print(f'{count} of {str(len(playlist))} downloaded')\n",
    "            count +=1\n",
    "        \n",
    "        print('All mp3 are downloaded correctly')\n",
    "\n",
    "    except Exception as e:\n",
    "        print(str(e))\n",
    "        return None\n",
    "    "
   ]
  },
  {
   "cell_type": "markdown",
   "metadata": {},
   "source": [
    "## Descargar playlist mp3 Youtube"
   ]
  },
  {
   "cell_type": "code",
   "execution_count": 53,
   "metadata": {},
   "outputs": [],
   "source": [
    "enlace_playlist = 'https://www.youtube.com/playlist?list=PLzdSzYqGYv6H0Rp3Rd3S9f1ZpKQbr9k3H'\n",
    "\n",
    "lista_videos = get_links_from_playlist(enlace_playlist)\n",
    "download_mp3_playlist(lista_videos)"
   ]
  }
 ],
 "metadata": {
  "kernelspec": {
   "display_name": "venv",
   "language": "python",
   "name": "python3"
  },
  "language_info": {
   "codemirror_mode": {
    "name": "ipython",
    "version": 3
   },
   "file_extension": ".py",
   "mimetype": "text/x-python",
   "name": "python",
   "nbconvert_exporter": "python",
   "pygments_lexer": "ipython3",
   "version": "3.11.4"
  }
 },
 "nbformat": 4,
 "nbformat_minor": 2
}
